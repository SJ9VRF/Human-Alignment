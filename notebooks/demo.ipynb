{
 "cells": [
  {
   "cell_type": "markdown",
   "metadata": {},
   "source": [
    "# Human Alignment Project Demo\n",
    "\n",
    "This notebook demonstrates how to use the `HumanAlignment` class to:\n",
    "1. Initialize and prepare resources.\n",
    "2. Compile and run the AutoSxS pipeline.\n",
    "3. Fetch evaluation results and clean up resources."
   ]
  },
  {
   "cell_type": "code",
   "execution_count": 1,
   "metadata": {},
   "outputs": [],
   "source": [
    "!pip install google-cloud-aiplatform google-cloud-pipeline-components pandas kfp"
   ]
  },
  {
   "cell_type": "markdown",
   "metadata": {},
   "source": [
    "## Step 1: Initialize HumanAlignment Class"
   ]
  },
  {
   "cell_type": "code",
   "execution_count": 2,
   "metadata": {},
   "outputs": [],
   "source": [
    "from human_alignment import HumanAlignment\n",
    "\n",
    "# Define project settings\n",
    "project_id = \"your-project-id\"\n",
    "location = \"us-central1\"\n",
    "bucket_name = None  # Optional: Leave as None to auto-generate a bucket name\n",
    "\n",
    "# Initialize the class\n",
    "alignment = HumanAlignment(project_id=project_id, location=location, bucket_name=bucket_name)"
   ]
  },
  {
   "cell_type": "markdown",
   "metadata": {},
   "source": [
    "## Step 2: Create Cloud Storage Bucket"
   ]
  },
  {
   "cell_type": "code",
   "execution_count": 3,
   "metadata": {},
   "outputs": [],
   "source": [
    "# Create the bucket\n",
    "alignment.create_bucket()"
   ]
  },
  {
   "cell_type": "markdown",
   "metadata": {},
   "source": [
    "## Step 3: Prepare Evaluation Dataset"
   ]
  },
  {
   "cell_type": "code",
   "execution_count": 4,
   "metadata": {},
   "outputs": [],
   "source": [
    "# Define dataset inputs\n",
    "context = [\n",
    "    \"Context for example 1\",\n",
    "    \"Context for example 2\",\n",
    "]\n",
    "questions = [\n",
    "    \"What is the first question?\",\n",
    "    \"What is the second question?\",\n",
    "]\n",
    "predictions_a = [\n",
    "    \"Prediction from model A for example 1\",\n",
    "    \"Prediction from model A for example 2\",\n",
    "]\n",
    "predictions_b = [\n",
    "    \"Prediction from model B for example 1\",\n",
    "    \"Prediction from model B for example 2\",\n",
    "]\n",
    "human_preference = [\"A\", \"B\"]  # Human preferences for each example\n",
    "\n",
    "# Upload the dataset\n",
    "alignment.prepare_dataset(context, questions, predictions_a, predictions_b, human_preference)"
   ]
  },
  {
   "cell_type": "markdown",
   "metadata": {},
   "source": [
    "## Step 4: Compile the Pipeline"
   ]
  },
  {
   "cell_type": "code",
   "execution_count": 5,
   "metadata": {},
   "outputs": [],
   "source": [
    "from google_cloud_pipeline_components.v1 import model_evaluation\n",
    "\n",
    "# Compile the pipeline\n",
    "alignment.compile_pipeline(pipeline_func=model_evaluation.autosxs_pipeline)"
   ]
  },
  {
   "cell_type": "markdown",
   "metadata": {},
   "source": [
    "## Step 5: Run the Pipeline"
   ]
  },
  {
   "cell_type": "code",
   "execution_count": 6,
   "metadata": {},
   "outputs": [],
   "source": [
    "# Define pipeline parameters\n",
    "parameters = {\n",
    "    \"evaluation_dataset\": alignment.dataset_path,\n",
    "    \"id_columns\": [\"questions\"],\n",
    "    \"autorater_prompt_parameters\": {\n",
    "        \"inference_context\": {\"column\": \"context\"},\n",
    "        \"inference_instruction\": {\"column\": \"questions\"},\n",
    "    },\n",
    "    \"task\": \"question_answering\",\n",
    "    \"response_column_a\": \"pred_a\",\n",
    "    \"response_column_b\": \"pred_b\",\n",
    "    \"human_preference_column\": \"actuals\",\n",
    "}\n",
    "\n",
    "# Run the pipeline\n",
    "display_name = \"human-alignment-demo\"\n",
    "job = alignment.run_pipeline(parameters, display_name=display_name)"
   ]
  },
  {
   "cell_type": "markdown",
   "metadata": {},
   "source": [
    "## Step 6: Fetch Results"
   ]
  },
  {
   "cell_type": "code",
   "execution_count": 7,
   "metadata": {},
   "outputs": [],
   "source": [
    "# Fetch the results\n",
    "outputs = alignment.fetch_job_outputs(job, task_name=\"online-evaluation-pairwise\")\n",
    "judgments_uri = outputs[\"judgments\"].artifacts[0].uri\n",
    "\n",
    "# Load and display judgments\n",
    "judgments_df = alignment.load_metrics(judgments_uri)\n",
    "judgments_df.head()"
   ]
  },
  {
   "cell_type": "markdown",
   "metadata": {},
   "source": [
    "## Step 7: Clean Up Resources"
   ]
  },
  {
   "cell_type": "code",
   "execution_count": 8,
   "metadata": {},
   "outputs": [],
   "source": [
    "# Clean up resources (Optional)\n",
    "alignment.clean_up(delete_bucket=True)"
   ]
  }
 ],
 "metadata": {
  "kernelspec": {
   "display_name": "Python 3",
   "language": "python",
   "name": "python3"
  },
  "language_info": {
   "codemirror_mode": {
    "name": "ipython",
    "version": 3
   },
   "file_extension": ".py",
   "mimetype": "text/x-python",
   "name": "python",
   "nbconvert_exporter": "python",
   "pygments_lexer": "ipython3",
   "version": "3.8.10"
  }
 },
 "nbformat": 4,
 "nbformat_minor": 2
}
